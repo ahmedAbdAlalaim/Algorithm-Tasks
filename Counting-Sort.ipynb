{
 "cells": [
  {
   "cell_type": "code",
   "execution_count": null,
   "id": "99b3aabe",
   "metadata": {},
   "outputs": [],
   "source": [
    "def count_sort(input_array):\n",
    "    M = max(input_array)\n",
    "    count_array = [0] * (M + 1)\n",
    "    for num in input_array:\n",
    "        count_array[num] += 1\n",
    "    for i in range(1, M + 1):\n",
    "        count_array[i] += count_array[i - 1]\n",
    "    output_array = [0] * len(input_array)\n",
    "    for i in range(len(input_array) - 1, -1, -1):\n",
    "        output_array[count_array[input_array[i]] - 1] = input_array[i]\n",
    "        count_array[input_array[i]] -= 1\n",
    "    return output_array\n",
    "if __name__ == \"__main__\":\n",
    "    input_array = [2,0,3,1,5,7,9,6,8,4,10]\n",
    "    output_array = count_sort(input_array)\n",
    "    for num in output_array:\n",
    "        print(num, end=\" \")\n"
   ]
  }
 ],
 "metadata": {},
 "nbformat": 4,
 "nbformat_minor": 5
}
