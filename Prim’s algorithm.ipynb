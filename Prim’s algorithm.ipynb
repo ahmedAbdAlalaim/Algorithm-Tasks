{
  "nbformat": 4,
  "nbformat_minor": 0,
  "metadata": {
    "colab": {
      "provenance": []
    },
    "kernelspec": {
      "name": "python3",
      "display_name": "Python 3"
    },
    "language_info": {
      "name": "python"
    }
  },
  "cells": [
    {
      "cell_type": "code",
      "source": [
        "class Graph:\n",
        "    def __init__(self, vertices): # Changed _init_ to __init__\n",
        "        self.V = vertices\n",
        "        self.graph = [[0 for column in range(vertices)] for row in range(vertices)]\n",
        "\n",
        "    def print_mst(self, parent):\n",
        "        print(\"Edge \\tWeight\")\n",
        "        for i in range(1, self.V):\n",
        "            print(f\"{parent[i]} - {i} \\t{self.graph[i][parent[i]]}\")\n",
        "\n",
        "    def min_key(self, key, mst_set):\n",
        "        min_val = float('inf')\n",
        "        min_index = -1\n",
        "\n",
        "        for v in range(self.V):\n",
        "            if key[v] < min_val and not mst_set[v]:\n",
        "                min_val = key[v]\n",
        "                min_index = v\n",
        "\n",
        "        return min_index\n",
        "\n",
        "    def prim_mst(self):\n",
        "        key = [float('inf')] * self.V\n",
        "        parent = [None] * self.V\n",
        "        key[0] = 0\n",
        "        mst_set = [False] * self.V\n",
        "        parent[0] = -1\n",
        "\n",
        "        for _ in range(self.V):\n",
        "            u = self.min_key(key, mst_set)\n",
        "            mst_set[u] = True\n",
        "\n",
        "            for v in range(self.V):\n",
        "                if self.graph[u][v] > 0 and not mst_set[v] and key[v] > self.graph[u][v]:\n",
        "                    key[v] = self.graph[u][v]\n",
        "                    parent[v] = u\n",
        "\n",
        "        self.print_mst(parent)\n",
        "\n",
        "# Example usage\n",
        "g = Graph(5)\n",
        "g.graph = [\n",
        "    [0, 2, 0, 6, 0],\n",
        "    [2, 0, 3, 8, 5],\n",
        "    [0, 3, 0, 0, 7],\n",
        "    [6, 8, 0, 0, 9],\n",
        "    [0, 5, 7, 9, 0]\n",
        "]\n",
        "\n",
        "g.prim_mst()"
      ],
      "metadata": {
        "colab": {
          "base_uri": "https://localhost:8080/"
        },
        "id": "9SRXatUPQLku",
        "outputId": "ab644961-f89b-4929-83a4-f17c8a536609"
      },
      "execution_count": null,
      "outputs": [
        {
          "output_type": "stream",
          "name": "stdout",
          "text": [
            "Edge \tWeight\n",
            "0 - 1 \t2\n",
            "1 - 2 \t3\n",
            "0 - 3 \t6\n",
            "1 - 4 \t5\n"
          ]
        }
      ]
    }
  ]
}